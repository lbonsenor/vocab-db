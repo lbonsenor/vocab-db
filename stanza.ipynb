{
 "cells": [
  {
   "cell_type": "code",
   "execution_count": null,
   "id": "e478e4b3",
   "metadata": {},
   "outputs": [],
   "source": [
    "# PACKAGE INSTALLATION\n",
    "\n",
    "%pip install jupyter stanza dotenv psycopg2"
   ]
  },
  {
   "cell_type": "code",
   "execution_count": null,
   "id": "c06495ea",
   "metadata": {},
   "outputs": [],
   "source": [
    "# LOCAL IMPORTS\n",
    "\n",
    "import importlib\n",
    "import romanizer\n",
    "import db\n",
    "\n",
    "importlib.reload(romanizer)     # Reload romanizer from korean\n",
    "importlib.reload(db)"
   ]
  },
  {
   "cell_type": "code",
   "execution_count": null,
   "id": "ee28a2d8",
   "metadata": {},
   "outputs": [],
   "source": [
    "# DATABASE\n",
    "\n",
    "import os\n",
    "from dotenv import load_dotenv\n",
    "from supabase import create_client, Client\n",
    "from psycopg2.extensions import connection\n",
    "\n",
    "load_dotenv(override=True)\n",
    "\n",
    "# url: str = os.environ.get(\"SUPABASE_URL\")\n",
    "# key: str = os.environ.get(\"SUPABASE_KEY\")\n",
    "\n",
    "# conn: Client = create_client(url, key)\n",
    "\n",
    "conn: connection = db.connect()"
   ]
  },
  {
   "cell_type": "code",
   "execution_count": null,
   "id": "726117e2",
   "metadata": {},
   "outputs": [],
   "source": [
    "# TABLE CREATION\n",
    "\n",
    "db.create_tables(conn)"
   ]
  },
  {
   "cell_type": "code",
   "execution_count": null,
   "id": "c919cce6",
   "metadata": {},
   "outputs": [],
   "source": [
    "# MODEL DOWNLOAD\n",
    "\n",
    "import stanza\n",
    "\n",
    "language = 'ko'\n",
    "stanza.download(language)       # Download model\n",
    "nlp = stanza.Pipeline(language) # Initialize neural pipeline"
   ]
  },
  {
   "cell_type": "code",
   "execution_count": null,
   "id": "0481b79c",
   "metadata": {},
   "outputs": [],
   "source": [
    "# PHRASE TOKENIZATION\n",
    "phrase = \"무엇을 먹을 거예요?\"\n",
    "\n",
    "doc = nlp(phrase)\n",
    "dict = doc.to_dict()\n",
    "\n",
    "print(doc.sentences)"
   ]
  },
  {
   "cell_type": "code",
   "execution_count": null,
   "id": "c56fe056",
   "metadata": {},
   "outputs": [],
   "source": [
    "from color import blue, bold, cyan, green, purple, red\n",
    "\n",
    "\n",
    "for sentences in dict:\n",
    "    print(\"Phrase: \", phrase)\n",
    "    for words in sentences:\n",
    "        print(bold(cyan(\"Text: \")), words['text'], '|', blue(romanizer.hangul(words['text'])))\n",
    "\n",
    "        upos = db.get_upos(conn, words['upos'])\n",
    "        print(green(\"Part of Speech: \"), upos)\n",
    "\n",
    "        print(red(\"Morphemes: \"))\n",
    "        morphemes = words['lemma'].split('+')\n",
    "\n",
    "        tags = words['xpos'].split('+')\n",
    "        xpos = db.get_xpos(conn, tags)\n",
    "\n",
    "        morphemes_info = db.get_morphemes(conn, morphemes, tags)\n",
    "\n",
    "        for morpheme, tag, xpos_label, info in zip(morphemes, tags, xpos, morphemes_info):\n",
    "            print(f\"    '{morpheme}': '{tag} => {xpos_label.title()}' | {bold(red('Translation'))}: {info['translation']}\")\n",
    "\n",
    "        translation = db.get_translation(conn, words['text'], words['upos'], morphemes_info)\n",
    "        print(purple(\"Translation: \"), translation)\n",
    "        print(\"─\"*30, '\\n')\n"
   ]
  }
 ],
 "metadata": {
  "kernelspec": {
   "display_name": "venv (3.13.5)",
   "language": "python",
   "name": "python3"
  },
  "language_info": {
   "codemirror_mode": {
    "name": "ipython",
    "version": 3
   },
   "file_extension": ".py",
   "mimetype": "text/x-python",
   "name": "python",
   "nbconvert_exporter": "python",
   "pygments_lexer": "ipython3",
   "version": "3.13.5"
  }
 },
 "nbformat": 4,
 "nbformat_minor": 5
}
