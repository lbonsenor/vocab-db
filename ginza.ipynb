{
 "cells": [
  {
   "cell_type": "code",
   "execution_count": 13,
   "id": "2e4d84ea",
   "metadata": {},
   "outputs": [
    {
     "data": {
      "text/plain": [
       "<module 'db' from 'd:\\\\vocab-db\\\\db.py'>"
      ]
     },
     "execution_count": 13,
     "metadata": {},
     "output_type": "execute_result"
    }
   ],
   "source": [
    "# LOCAL IMPORTS\n",
    "\n",
    "import importlib\n",
    "import romanizer\n",
    "import db\n",
    "\n",
    "importlib.reload(romanizer)     # Reload romanizer from korean\n",
    "importlib.reload(db)"
   ]
  },
  {
   "cell_type": "code",
   "execution_count": 2,
   "id": "9e16749d",
   "metadata": {},
   "outputs": [],
   "source": [
    "# MODEL DOWNLOAD\n",
    "\n",
    "import spacy\n",
    "import ginza\n",
    "\n",
    "language = 'ja'\n",
    "nlp = spacy.load(\"ja_ginza\") # Initialize neural pipeline"
   ]
  },
  {
   "cell_type": "code",
   "execution_count": null,
   "id": "b095ce49",
   "metadata": {},
   "outputs": [],
   "source": [
    "# DATABASE\n",
    "\n",
    "import os\n",
    "from dotenv import load_dotenv\n",
    "from psycopg2.extensions import connection\n",
    "\n",
    "load_dotenv(override=True)\n",
    "\n",
    "conn: connection = db.connect(language)"
   ]
  },
  {
   "cell_type": "code",
   "execution_count": null,
   "id": "c26c83a0",
   "metadata": {},
   "outputs": [],
   "source": [
    "# TABLE CREATION\n",
    "\n",
    "db.create_tables(conn)"
   ]
  },
  {
   "cell_type": "code",
   "execution_count": null,
   "id": "7debb41e",
   "metadata": {},
   "outputs": [],
   "source": [
    "# PHRASE TOKENIZATION\n",
    "phrase = \"それはいい考えですね\"\n",
    "print(romanizer.romanize(phrase))\n",
    "\n",
    "doc = nlp(phrase)\n",
    "\n",
    "for token in doc:\n",
    "    print(f\"Text: {token.text} | {romanizer.romanize(token.text)}\")\n",
    "    print(f\"  Lemma: {token.lemma_}\")\n",
    "    print(f\"  POS: {token.pos_}\")\n",
    "    print(f\"  Fine POS: {token.tag_}\")\n",
    "    print(f\"  Head: {token.head.text}\")\n",
    "    print(f\"  DepRel: {token.dep_}\")\n",
    "    print(f\"  SpaceAfter: {token.whitespace_!r}\")\n",
    "    print(\"---\")"
   ]
  }
 ],
 "metadata": {
  "kernelspec": {
   "display_name": ".venv (3.13.5)",
   "language": "python",
   "name": "python3"
  },
  "language_info": {
   "codemirror_mode": {
    "name": "ipython",
    "version": 3
   },
   "file_extension": ".py",
   "mimetype": "text/x-python",
   "name": "python",
   "nbconvert_exporter": "python",
   "pygments_lexer": "ipython3",
   "version": "3.13.5"
  }
 },
 "nbformat": 4,
 "nbformat_minor": 5
}
